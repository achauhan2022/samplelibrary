{
 "cells": [
  {
   "cell_type": "markdown",
   "metadata": {
    "tags": []
   },
   "source": [
    "# APT-33 Threat Hunt"
   ]
  },
  {
   "cell_type": "markdown",
   "metadata": {
    "tags": []
   },
   "source": [
    "<a class=\"anchor\" id=\"Content\"></a>\n",
    "\n",
    "### Table of Contents\n",
    "\n",
    "* [About APT33](#chapter1)\n",
    "* [Threat Hunt Hypothesis](#chapter2)\n",
    "* [Threat Hunt related TTPs Matrix](#chapter3)\n",
    "* [Import required Libraries for the Hunt](#chapter4)\n",
    "* [Start Session with Splunk \\ other tools](#chapter5)\n",
    "* [Intelligence based Hunt](#chapter6)\n",
    "    * [Hash based Hunt](#section_6_1)\n",
    "    * [IP Address based Hunt](#Section_6_2)\n",
    "    * [Domain based Hunt](#Section_6_3)\n",
    "    * [Network Artifacts based Hunt](#Section_6_4)\n",
    "    * [Host Artifacts based Hunt](#Section_6_5)\n",
    "* [Adversary Tool based Hunt](#chapter7)\n",
    "* [Adversary TTP based Hunt](#chapter8)\n",
    "* [Hunter Comments](#chapter9)\n",
    "* [References](#chapter10)"
   ]
  },
  {
   "cell_type": "markdown",
   "metadata": {},
   "source": [
    "### About APT33 <a class=\"anchor\" id=\"chapter1\"></a>\n",
    "\n",
    "|               |    |\n",
    "|:--------------|:---|\n",
    "| Group         | G0082 |\n",
    "|Alias          | Elfin, Holmium\n",
    "| Description   | APT33 is a Iranian threat group that has carried out operations since at least 2013. The group has targeted organizations across multiple industries in the United States, Saudi Arabia, and South Korea, with a particular interest in the aviation and energy sectors |\n",
    "| Reference        | [APT33 in MITRE ATT&CK](https://attack.mitre.org/groups/G0064/) |\n",
    "    "
   ]
  },
  {
   "cell_type": "markdown",
   "metadata": {
    "tags": []
   },
   "source": [
    "### Threat Hunt Hypothesis <a class=\"anchor\" id=\"chapter1\"></a>\n",
    "APT-33 is tragetting Bullish environment and able to compromise some systems\n",
    "\n"
   ]
  },
  {
   "cell_type": "markdown",
   "metadata": {
    "tags": []
   },
   "source": [
    "## APT-33 TTP Matrix\n",
    "![](layer.svg)"
   ]
  },
  {
   "cell_type": "markdown",
   "metadata": {},
   "source": [
    "## Import Libraries  << Add other libraries if required >>"
   ]
  },
  {
   "cell_type": "code",
   "execution_count": null,
   "metadata": {},
   "outputs": [],
   "source": [
    "from pyspark.sql import SparkSession"
   ]
  },
  {
   "cell_type": "markdown",
   "metadata": {},
   "source": [
    "## Start Spark Session  <<<< Change to Splunk Configs>>>>"
   ]
  },
  {
   "cell_type": "code",
   "execution_count": null,
   "metadata": {},
   "outputs": [],
   "source": [
    "spark = SparkSession.builder.getOrCreate()\n",
    "spark.conf.set(\"spark.sql.caseSensitive\", \"true\")"
   ]
  },
  {
   "cell_type": "markdown",
   "metadata": {},
   "source": [
    "## Intelligence based Hunt - Hashes \\ IP Address \\ Domain \\ Network & Host Artifacts "
   ]
  },
  {
   "cell_type": "markdown",
   "metadata": {},
   "source": [
    "### APT-38 related Hashes IOCs\n",
    "**Data Sources:** Crowdstrike Telemetry\n",
    "\n",
    "**Detection Type:** Query on Crowdstrike logs \n",
    "\n",
    "**Criteria:** Check for any hits in last 3 months \n"
   ]
  },
  {
   "cell_type": "markdown",
   "metadata": {
    "tags": []
   },
   "source": [
    "**Enter the Hashe Value(s):**\n",
    "\n",
    "Note: Enter multiple Hashes in CSV format\n",
    "\n",
    "<<<<   >>>>  Hashes entry text box\n",
    "\n",
    "**Query:**\n",
    "<<<<   >>>>  Enter the Splunk Query to search for hashes\n",
    "\n",
    "**Query Result:**\n",
    "<<<<   >>>> Show the Hits in a tabular format\n",
    "\n",
    "\n",
    "**Hashes Query Outcome Observation:** \n",
    "<<<  >>> Text Box"
   ]
  },
  {
   "cell_type": "markdown",
   "metadata": {
    "tags": []
   },
   "source": [
    "## APT-38 related IP address IOCs\n",
    "**Data Sources:** Darktrace \\ Connection Telemetry\n",
    "\n",
    "**Detection Type:** Query on conenction logs \n",
    "\n",
    "**Criteria:** Check for any hits in last 3 months \n"
   ]
  },
  {
   "cell_type": "markdown",
   "metadata": {
    "tags": []
   },
   "source": [
    "**Enter the IP address(es) :**\n",
    "\n",
    "Note: Enter multiple IPs in CSV format\n",
    "\n",
    "<<<<   >>>>  IP address entry text box\n",
    "\n",
    "**Query:**\n",
    "<<<<   >>>>  Enter the Splunk Query to search for connections toward the known IPs\n",
    "\n",
    "**Query Result:**\n",
    "<<<<   >>>> Show the Hits in a tabular format\n",
    "\n",
    "\n",
    "**IP Address Query Outcome Observation:** \n",
    "<<<  >>> Text Box"
   ]
  },
  {
   "cell_type": "markdown",
   "metadata": {},
   "source": [
    "## APT-38 related Domain IOCs\n",
    "**Data Sources:** Darktrace & Network connection related Telemetry\n",
    "\n",
    "**Detection Type:** Query on splunk logs \n",
    "\n",
    "**Criteria:** Check for any hits in last 3 months \n"
   ]
  },
  {
   "cell_type": "markdown",
   "metadata": {
    "tags": []
   },
   "source": [
    "**Enter the Domain(s):**\n",
    "\n",
    "Note: Enter multiple Domain in CSV format\n",
    "\n",
    "<<<<   >>>>  Domain entry text box\n",
    "\n",
    "**Query:**\n",
    "<<<<   >>>>  Enter the Splunk Query to search for hits toward the IOC Domain(s)\n",
    "\n",
    "**Query Result:**\n",
    "<<<<   >>>> Show the Hits in a tabular format\n",
    "\n",
    "\n",
    "**IOC Domain Query Outcome Observation:** \n",
    "<<<  >>> Text Box"
   ]
  },
  {
   "cell_type": "markdown",
   "metadata": {
    "tags": []
   },
   "source": [
    "##  Host Artifacts based Hunt\n",
    "**Objective :**\n",
    "\n",
    "### Characteristics\n",
    "| No | Characteristic | Note | Why|\n",
    "|----|----------------|------|---|\n",
    "|  1 | A 4663 EventID is logged| | This event is too vague, you need another characteristics to support the investigation |\n",
    "|2   | The file accessed is browser's password database || |\n",
    "|3   | The program that accessed the browser is not related to any browser | | Note every browser's default directory, and see if it's related|\n",
    "|4   | AccessList is 4416 || This access code means that the program is simply reading the data, not writing it|\n",
    "\n",
    "\n",
    "**Log Requirements \\ Data Sources:** Darktrace & Network connection related Telemetry\n",
    "\n",
    "**Detection Type:** Query on splunk logs \n",
    "\n",
    "**Criteria:** Check for any hits in last 3 months \n",
    "\n",
    "**References**\n",
    "\n",
    "\n"
   ]
  },
  {
   "cell_type": "markdown",
   "metadata": {
    "tags": []
   },
   "source": [
    "##  Network Artifacts based Hunt\n",
    "**Objective :**\n",
    "\n",
    "### Characteristics\n",
    "| No | Characteristic | Note | Why|\n",
    "|----|----------------|------|---|\n",
    "|  1 | A 4663 EventID is logged| | This event is too vague, you need another characteristics to support the investigation |\n",
    "|2   | The file accessed is browser's password database || |\n",
    "|3   | The program that accessed the browser is not related to any browser | | Note every browser's default directory, and see if it's related|\n",
    "|4   | AccessList is 4416 || This access code means that the program is simply reading the data, not writing it|\n",
    "\n",
    "\n",
    "**Log Requirements \\ Data Sources:** Darktrace & Network connection related Telemetry\n",
    "\n",
    "**Detection Type:** Query on splunk logs \n",
    "\n",
    "**Criteria:** Check for any hits in last 3 months \n",
    "\n",
    "**References**\n",
    "\n",
    "\n"
   ]
  },
  {
   "cell_type": "markdown",
   "metadata": {
    "tags": []
   },
   "source": [
    "##  Adversary Tools based Hunt\n",
    "**Objective :**\n",
    "\n",
    "### Characteristics\n",
    "| No | Characteristic | Note | Why|\n",
    "|----|----------------|------|---|\n",
    "|  1 | A 4663 EventID is logged| | This event is too vague, you need another characteristics to support the investigation |\n",
    "|2   | The file accessed is browser's password database || |\n",
    "|3   | The program that accessed the browser is not related to any browser | | Note every browser's default directory, and see if it's related|\n",
    "|4   | AccessList is 4416 || This access code means that the program is simply reading the data, not writing it|\n",
    "\n",
    "\n",
    "**Log Requirements \\ Data Sources:** Darktrace & Network connection related Telemetry\n",
    "\n",
    "**Detection Type:** Query on splunk logs \n",
    "\n",
    "**Criteria:** Check for any hits in last 3 months \n",
    "\n",
    "**References**\n",
    "\n",
    "\n"
   ]
  },
  {
   "cell_type": "markdown",
   "metadata": {
    "tags": []
   },
   "source": [
    "##  APT-38 TTPs based Hunt\n",
    "\n",
    "### 1. Drive-by Compromise\n",
    "**Objective :**\n",
    "\n",
    "\n",
    "**Tactic:** Initial Access (TA0001)\n",
    "### Characteristics\n",
    "| No | Characteristic | Note | Why|\n",
    "|----|----------------|------|---|\n",
    "|  1 | A 4663 EventID is logged| | This event is too vague, you need another characteristics to support the investigation |\n",
    "|2   | The file accessed is browser's password database || |\n",
    "|3   | The program that accessed the browser is not related to any browser | | Note every browser's default directory, and see if it's related|\n",
    "|4   | AccessList is 4416 || This access code means that the program is simply reading the data, not writing it|\n",
    "\n",
    "\n",
    "**Log Requirements \\ Data Sources:** Darktrace & Network connection related Telemetry\n",
    "\n",
    "**Detection Type:** Query on splunk logs \n",
    "\n",
    "**Criteria:** Check for any hits in last 3 months \n",
    "\n",
    "**References**\n",
    "\n",
    "\n"
   ]
  },
  {
   "cell_type": "markdown",
   "metadata": {
    "tags": []
   },
   "source": [
    "\n",
    "\n",
    "### 2. Spearphishing Attachment (T1566.001)\n",
    "**Objective**\n",
    "To identify successful or fail attempts of Spearphishing with attachment\n",
    "\n",
    "**Tactic:** Initial Access (TA0001)\n",
    "\n",
    "### Characteristics\n",
    "| No | Characteristic | Note | Why|\n",
    "|----|----------------|------|---|\n",
    "|1 | Emails with malicious attachments| | Check for blocked emails with attachments in Proofpoint |\n",
    "|2   | Antivirus alerts of malicious files || |\n",
    "|3   | User reported emails | | Emails categorized as Phishing by SOC after user reporting|\n",
    "|4   | Stats for targetted user & Attacker Pattern & Procedures || Identify top Targetted User|\n",
    "\n",
    "\n",
    "**Log Requirements \\ Data Sources:** Proofpoint, AV logs, User reported emails \n",
    "\n",
    "**Detection Type:** Query on splunk logs \n",
    "\n",
    "**Known Procedure:**\n",
    "\n",
    "**Criteria:** Check for any hits in last 3 months \n",
    "\n",
    "**References**\n",
    "\n",
    "1. [Phishing: Spearphishing Attachment](https://attack.mitre.org/techniques/T1566/001/)\n",
    "2. [APT38 spearphishing campaigns](https://www.cisa.gov/uscert/ncas/alerts/aa20-239a)\n",
    "\n"
   ]
  },
  {
   "cell_type": "markdown",
   "metadata": {},
   "source": [
    "**Analytics:**\n",
    "1. Check for files related to APT38 Phishing campaigns\n",
    "2. Review Logon attempts after receipt of malicious emails\n",
    "3. "
   ]
  },
  {
   "cell_type": "markdown",
   "metadata": {
    "tags": []
   },
   "source": [
    "\n",
    "\n",
    "### 3. Native API (T1106)\n",
    "**Objective :**\n",
    "\n",
    "**Tactic:** Execution (TA0002)\n",
    "\n",
    "### Characteristics\n",
    "| No | Characteristic | Note | Why|\n",
    "|----|----------------|------|---|\n",
    "|  1 | A 4663 EventID is logged| | This event is too vague, you need another characteristics to support the investigation |\n",
    "|2   | The file accessed is browser's password database || |\n",
    "|3   | The program that accessed the browser is not related to any browser | | Note every browser's default directory, and see if it's related|\n",
    "|4   | AccessList is 4416 || This access code means that the program is simply reading the data, not writing it|\n",
    "\n",
    "\n",
    "**Log Requirements \\ Data Sources:** Darktrace & Network connection related Telemetry\n",
    "\n",
    "**Detection Type:** Query on splunk logs \n",
    "\n",
    "**Criteria:** Check for any hits in last 3 months \n",
    "\n",
    "**References**\n",
    "\n",
    "\n"
   ]
  },
  {
   "cell_type": "markdown",
   "metadata": {
    "tags": []
   },
   "source": [
    "\n",
    "\n",
    "### 4. PowerShell (T1059.001) (Command and Scripting Interpreter)\n",
    "**Objective :**\n",
    "\n",
    "**Tactic:** Execution (TA0002)\n",
    "\n",
    "### Characteristics\n",
    "| No | Characteristic | Note | Why|\n",
    "|----|----------------|------|---|\n",
    "|  1 | A 4663 EventID is logged| | This event is too vague, you need another characteristics to support the investigation |\n",
    "|2   | The file accessed is browser's password database || |\n",
    "|3   | The program that accessed the browser is not related to any browser | | Note every browser's default directory, and see if it's related|\n",
    "|4   | AccessList is 4416 || This access code means that the program is simply reading the data, not writing it|\n",
    "\n",
    "\n",
    "**Log Requirements \\ Data Sources:** Darktrace & Network connection related Telemetry\n",
    "\n",
    "**Detection Type:** Query on splunk logs \n",
    "\n",
    "**Criteria:** Check for any hits in last 3 months \n",
    "\n",
    "**References**\n",
    "\n",
    "\n"
   ]
  },
  {
   "cell_type": "markdown",
   "metadata": {
    "tags": []
   },
   "source": [
    "\n",
    "\n",
    "### 5. Visual Basic (T1059.005) (Command and Scripting Interpreter)\n",
    "**Objective :**\n",
    "\n",
    "**Tactic:** Execution (TA0002)\n",
    "### Characteristics\n",
    "| No | Characteristic | Note | Why|\n",
    "|----|----------------|------|---|\n",
    "|  1 | A 4663 EventID is logged| | This event is too vague, you need another characteristics to support the investigation |\n",
    "|2   | The file accessed is browser's password database || |\n",
    "|3   | The program that accessed the browser is not related to any browser | | Note every browser's default directory, and see if it's related|\n",
    "|4   | AccessList is 4416 || This access code means that the program is simply reading the data, not writing it|\n",
    "\n",
    "\n",
    "**Log Requirements \\ Data Sources:** Darktrace & Network connection related Telemetry\n",
    "\n",
    "**Detection Type:** Query on splunk logs \n",
    "\n",
    "**Criteria:** Check for any hits in last 3 months \n",
    "\n",
    "**References**\n",
    "\n",
    "\n"
   ]
  },
  {
   "cell_type": "markdown",
   "metadata": {
    "tags": []
   },
   "source": [
    "\n",
    "\n",
    "### 6. Windows Command Shell (T1059.003) (Command and Scripting Interpreter)\n",
    "**Objective :**\n",
    "\n",
    "**Tactic:** Execution (TA0002)\n",
    "\n",
    "### Characteristics\n",
    "| No | Characteristic | Note | Why|\n",
    "|----|----------------|------|---|\n",
    "|  1 | A 4663 EventID is logged| | This event is too vague, you need another characteristics to support the investigation |\n",
    "|2   | The file accessed is browser's password database || |\n",
    "|3   | The program that accessed the browser is not related to any browser | | Note every browser's default directory, and see if it's related|\n",
    "|4   | AccessList is 4416 || This access code means that the program is simply reading the data, not writing it|\n",
    "\n",
    "\n",
    "**Log Requirements \\ Data Sources:** Darktrace & Network connection related Telemetry\n",
    "\n",
    "**Detection Type:** Query on splunk logs \n",
    "\n",
    "**Criteria:** Check for any hits in last 3 months \n",
    "\n",
    "**References**\n",
    "\n",
    "\n"
   ]
  },
  {
   "cell_type": "markdown",
   "metadata": {
    "tags": []
   },
   "source": [
    "\n",
    "\n",
    "### 7. Cron (T1053.003)  (Scheduled Task/Job - T1053)\n",
    "**Objective :**\n",
    "\n",
    "**Tactic:** Execution (TA0002)\n",
    "\n",
    "### Characteristics\n",
    "| No | Characteristic | Note | Why|\n",
    "|----|----------------|------|---|\n",
    "|  1 | A 4663 EventID is logged| | This event is too vague, you need another characteristics to support the investigation |\n",
    "|2   | The file accessed is browser's password database || |\n",
    "|3   | The program that accessed the browser is not related to any browser | | Note every browser's default directory, and see if it's related|\n",
    "|4   | AccessList is 4416 || This access code means that the program is simply reading the data, not writing it|\n",
    "\n",
    "\n",
    "**Log Requirements \\ Data Sources:** Darktrace & Network connection related Telemetry\n",
    "\n",
    "**Detection Type:** Query on splunk logs \n",
    "\n",
    "**Criteria:** Check for any hits in last 3 months \n",
    "\n",
    "**References**\n",
    "\n",
    "\n"
   ]
  },
  {
   "cell_type": "markdown",
   "metadata": {
    "tags": []
   },
   "source": [
    "\n",
    "\n",
    "### 8. Scheduled Task (T1053.005) (Scheduled Task/Job - T1053)\n",
    "**Objective :**\n",
    "\n",
    "**Tactic:** Execution (TA0002)\n",
    "\n",
    "### Characteristics\n",
    "| No | Characteristic | Note | Why|\n",
    "|----|----------------|------|---|\n",
    "|  1 | A 4663 EventID is logged| | This event is too vague, you need another characteristics to support the investigation |\n",
    "|2   | The file accessed is browser's password database || |\n",
    "|3   | The program that accessed the browser is not related to any browser | | Note every browser's default directory, and see if it's related|\n",
    "|4   | AccessList is 4416 || This access code means that the program is simply reading the data, not writing it|\n",
    "\n",
    "\n",
    "**Log Requirements \\ Data Sources:** Darktrace & Network connection related Telemetry\n",
    "\n",
    "**Detection Type:** Query on splunk logs \n",
    "\n",
    "**Criteria:** Check for any hits in last 3 months \n",
    "\n",
    "**References**\n",
    "\n",
    "\n"
   ]
  },
  {
   "cell_type": "markdown",
   "metadata": {
    "tags": []
   },
   "source": [
    "\n",
    "\n",
    "### 9. Service Execution (T1569.002) (System Services - T1569)\n",
    "**Objective :**\n",
    "\n",
    "**Tactic:** Execution (TA0002)\n",
    "\n",
    "### Characteristics\n",
    "| No | Characteristic | Note | Why|\n",
    "|----|----------------|------|---|\n",
    "|  1 | A 4663 EventID is logged| | This event is too vague, you need another characteristics to support the investigation |\n",
    "|2   | The file accessed is browser's password database || |\n",
    "|3   | The program that accessed the browser is not related to any browser | | Note every browser's default directory, and see if it's related|\n",
    "|4   | AccessList is 4416 || This access code means that the program is simply reading the data, not writing it|\n",
    "\n",
    "\n",
    "**Log Requirements \\ Data Sources:** Darktrace & Network connection related Telemetry\n",
    "\n",
    "**Detection Type:** Query on splunk logs \n",
    "\n",
    "**Criteria:** Check for any hits in last 3 months \n",
    "\n",
    "**References**\n",
    "\n",
    "\n"
   ]
  },
  {
   "cell_type": "markdown",
   "metadata": {
    "tags": []
   },
   "source": [
    "\n",
    "\n",
    "### 10. Malicious File (T1204.002) (User Execution- T1204)\n",
    "**Objective :**\n",
    "\n",
    "**Tactic:** Execution (TA0002)\n",
    "\n",
    "### Characteristics\n",
    "| No | Characteristic | Note | Why|\n",
    "|----|----------------|------|---|\n",
    "|  1 | A 4663 EventID is logged| | This event is too vague, you need another characteristics to support the investigation |\n",
    "|2   | The file accessed is browser's password database || |\n",
    "|3   | The program that accessed the browser is not related to any browser | | Note every browser's default directory, and see if it's related|\n",
    "|4   | AccessList is 4416 || This access code means that the program is simply reading the data, not writing it|\n",
    "\n",
    "\n",
    "**Log Requirements \\ Data Sources:** Darktrace & Network connection related Telemetry\n",
    "\n",
    "**Detection Type:** Query on splunk logs \n",
    "\n",
    "**Criteria:** Check for any hits in last 3 months \n",
    "\n",
    "**References**\n",
    "\n",
    "\n"
   ]
  },
  {
   "cell_type": "markdown",
   "metadata": {
    "jp-MarkdownHeadingCollapsed": true,
    "tags": []
   },
   "source": [
    "\n",
    "\n",
    "### 11. Windows Service (T1543.003) (Create or Modify System Process- T1543)\n",
    "**Objective :**\n",
    "\n",
    "**Tactic:** Privilege Escalation (TA0004)\n",
    "\n",
    "### Characteristics\n",
    "| No | Characteristic | Note | Why|\n",
    "|----|----------------|------|---|\n",
    "|  1 | A 4663 EventID is logged| | This event is too vague, you need another characteristics to support the investigation |\n",
    "|2   | The file accessed is browser's password database || |\n",
    "|3   | The program that accessed the browser is not related to any browser | | Note every browser's default directory, and see if it's related|\n",
    "|4   | AccessList is 4416 || This access code means that the program is simply reading the data, not writing it|\n",
    "\n",
    "\n",
    "**Log Requirements \\ Data Sources:** Darktrace & Network connection related Telemetry\n",
    "\n",
    "**Detection Type:** Query on splunk logs \n",
    "\n",
    "**Criteria:** Check for any hits in last 3 months \n",
    "\n",
    "**References**\n",
    "\n",
    "\n"
   ]
  },
  {
   "cell_type": "markdown",
   "metadata": {
    "jp-MarkdownHeadingCollapsed": true,
    "tags": []
   },
   "source": [
    "\n",
    "\n",
    "### 12. Modify Registry (T1112)\n",
    "**Objective :**\n",
    "\n",
    "**Tactic:** Defense Evasion (TA0005)\n",
    "\n",
    "### Characteristics\n",
    "| No | Characteristic | Note | Why|\n",
    "|----|----------------|------|---|\n",
    "|  1 | A 4663 EventID is logged| | This event is too vague, you need another characteristics to support the investigation |\n",
    "|2   | The file accessed is browser's password database || |\n",
    "|3   | The program that accessed the browser is not related to any browser | | Note every browser's default directory, and see if it's related|\n",
    "|4   | AccessList is 4416 || This access code means that the program is simply reading the data, not writing it|\n",
    "\n",
    "\n",
    "**Log Requirements \\ Data Sources:** Darktrace & Network connection related Telemetry\n",
    "\n",
    "**Detection Type:** Query on splunk logs \n",
    "\n",
    "**Criteria:** Check for any hits in last 3 months \n",
    "\n",
    "**References**\n",
    "\n",
    "\n"
   ]
  },
  {
   "cell_type": "markdown",
   "metadata": {
    "jp-MarkdownHeadingCollapsed": true,
    "tags": []
   },
   "source": [
    "\n",
    "\n",
    "### 13. Disable or Modify System Firewall (T1562.004) (Impair Defenses- T1562)\n",
    "**Objective :**\n",
    "\n",
    "**Tactic:** Defense Evasion (TA0005)\n",
    "\n",
    "### Characteristics\n",
    "| No | Characteristic | Note | Why|\n",
    "|----|----------------|------|---|\n",
    "|  1 | A 4663 EventID is logged| | This event is too vague, you need another characteristics to support the investigation |\n",
    "|2   | The file accessed is browser's password database || |\n",
    "|3   | The program that accessed the browser is not related to any browser | | Note every browser's default directory, and see if it's related|\n",
    "|4   | AccessList is 4416 || This access code means that the program is simply reading the data, not writing it|\n",
    "\n",
    "\n",
    "**Log Requirements \\ Data Sources:** Darktrace & Network connection related Telemetry\n",
    "\n",
    "**Detection Type:** Query on splunk logs \n",
    "\n",
    "**Criteria:** Check for any hits in last 3 months \n",
    "\n",
    "**References**\n",
    "\n",
    "\n"
   ]
  },
  {
   "cell_type": "markdown",
   "metadata": {
    "jp-MarkdownHeadingCollapsed": true,
    "tags": []
   },
   "source": [
    "\n",
    "\n",
    "### 14. Impair Command History Logging (T1562.003) (Impair Defenses- T1562)\n",
    "**Objective :**\n",
    "\n",
    "**Tactic:** Defense Evasion (TA0005)\n",
    "\n",
    "### Characteristics\n",
    "| No | Characteristic | Note | Why|\n",
    "|----|----------------|------|---|\n",
    "|  1 | A 4663 EventID is logged| | This event is too vague, you need another characteristics to support the investigation |\n",
    "|2   | The file accessed is browser's password database || |\n",
    "|3   | The program that accessed the browser is not related to any browser | | Note every browser's default directory, and see if it's related|\n",
    "|4   | AccessList is 4416 || This access code means that the program is simply reading the data, not writing it|\n",
    "\n",
    "\n",
    "**Log Requirements \\ Data Sources:** Darktrace & Network connection related Telemetry\n",
    "\n",
    "**Detection Type:** Query on splunk logs \n",
    "\n",
    "**Criteria:** Check for any hits in last 3 months \n",
    "\n",
    "**References**\n",
    "\n",
    "\n"
   ]
  },
  {
   "cell_type": "markdown",
   "metadata": {
    "jp-MarkdownHeadingCollapsed": true,
    "tags": []
   },
   "source": [
    "### Detection Type:Telemetry(None)"
   ]
  },
  {
   "cell_type": "markdown",
   "metadata": {
    "jp-MarkdownHeadingCollapsed": true,
    "tags": []
   },
   "source": [
    "### Detection Type:None(None)"
   ]
  },
  {
   "cell_type": "markdown",
   "metadata": {},
   "source": [
    "### Detection Type:Telemetry(Correlated)"
   ]
  },
  {
   "cell_type": "markdown",
   "metadata": {},
   "source": [
    "### Detection Type:technique(alert)"
   ]
  },
  {
   "cell_type": "markdown",
   "metadata": {},
   "source": [
    "### Detection Type:General(Correlated)"
   ]
  },
  {
   "cell_type": "markdown",
   "metadata": {},
   "source": [
    "### Detection Type:technique(Alert)"
   ]
  }
 ],
 "metadata": {
  "kernelspec": {
   "display_name": "Python 3",
   "language": "python",
   "name": "python3"
  },
  "language_info": {
   "codemirror_mode": {
    "name": "ipython",
    "version": 3
   },
   "file_extension": ".py",
   "mimetype": "text/x-python",
   "name": "python",
   "nbconvert_exporter": "python",
   "pygments_lexer": "ipython3",
   "version": "3.6.8"
  }
 },
 "nbformat": 4,
 "nbformat_minor": 4
}
