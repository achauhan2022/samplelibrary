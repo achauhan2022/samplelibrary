{
 "cells": [
  {
   "cell_type": "markdown",
   "id": "547c737f-30a6-480e-a5e4-740cb709befc",
   "metadata": {},
   "source": [
    "# Adversary TTPs Hunting Analytics Library"
   ]
  },
  {
   "cell_type": "code",
   "execution_count": null,
   "id": "820db642-8beb-4456-a8af-85518cc4c98a",
   "metadata": {},
   "outputs": [],
   "source": []
  }
 ],
 "metadata": {
  "kernelspec": {
   "display_name": "Python 3",
   "language": "python",
   "name": "python3"
  },
  "language_info": {
   "codemirror_mode": {
    "name": "ipython",
    "version": 3
   },
   "file_extension": ".py",
   "mimetype": "text/x-python",
   "name": "python",
   "nbconvert_exporter": "python",
   "pygments_lexer": "ipython3",
   "version": "3.6.8"
  }
 },
 "nbformat": 4,
 "nbformat_minor": 5
}
