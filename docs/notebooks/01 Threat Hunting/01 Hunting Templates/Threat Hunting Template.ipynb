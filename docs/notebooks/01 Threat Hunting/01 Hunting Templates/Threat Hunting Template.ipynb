{
 "cells": [
  {
   "cell_type": "markdown",
   "id": "29f896d2-0ffc-4095-aaa6-6711c3cba2c1",
   "metadata": {},
   "source": [
    "# TH Template"
   ]
  },
  {
   "cell_type": "markdown",
   "id": "5004d9bf-812c-4b30-8be9-b94430606bd2",
   "metadata": {
    "tags": []
   },
   "source": [
    "<a class=\"anchor\" id=\"Content\"></a>\n",
    "\n",
    "### Table of Contents\n",
    "\n",
    "* [About the Subject of the Threat Hunt](#chapter1)\n",
    "* [Threat Hunt Hypothesis](#chapter2)\n",
    "* [Threat Hunt related TTPs Matrix](#chapter3)\n",
    "* [Import required Libraries for the Hunt](#chapter4)\n",
    "* [Start Session with Splunk \\ other tools](#chapter5)\n",
    "* [Intelligence based Hunt](#chapter6)\n",
    "    * [Hash based Hunt](#section_6_1)\n",
    "    * [IP Address based Hunt](#Section_6_2)\n",
    "    * [Domain based Hunt](#Section_6_3)\n",
    "    * [Network Artifacts based Hunt](#Section_6_4)\n",
    "    * [Host Artifacts based Hunt](#Section_6_5)\n",
    "* [Adversary Tool based Hunt](#chapter7)\n",
    "* [Adversary TTP based Hunt](#chapter8)\n",
    "* [Hunter Comments](#chapter9)\n",
    "* [References](#chapter10)"
   ]
  },
  {
   "cell_type": "markdown",
   "id": "8cdbae5e-5712-4be4-a210-156c3e3b3d65",
   "metadata": {},
   "source": [
    "### 1. About Subject of Threat Hunt <a class=\"anchor\" id=\"chapter1\"></a>\n",
    "[Back to Table of Content](#Content)\n",
    "    "
   ]
  },
  {
   "cell_type": "code",
   "execution_count": null,
   "id": "818a4744-f1ef-4139-823d-ddfe2c2e3b1b",
   "metadata": {},
   "outputs": [],
   "source": [
    "Subject  = input(\"About Hunt Subject:\")\n",
    "\n"
   ]
  },
  {
   "cell_type": "code",
   "execution_count": null,
   "id": "74c6fe56-5430-479e-a53d-1782746f4671",
   "metadata": {},
   "outputs": [],
   "source": [
    "Description  = input(\"Subject Description:\")\n"
   ]
  },
  {
   "cell_type": "code",
   "execution_count": null,
   "id": "d6affaa5-b499-4f1e-a26f-089f32abb697",
   "metadata": {},
   "outputs": [],
   "source": [
    "References  = input(\"References:\")"
   ]
  },
  {
   "cell_type": "markdown",
   "id": "f0404d79-8c4e-472e-8bc3-5669ff1d9b2a",
   "metadata": {
    "tags": []
   },
   "source": [
    "***\n",
    "### 2. Threat Hunt Hypothesis <a class=\"anchor\" id=\"chapter2\"></a>\n",
    "[Back to Table of Content](#Content)\n",
    "\n",
    "Enter the Threat Hunt Hpothesis\n",
    "\n",
    "\n"
   ]
  },
  {
   "cell_type": "markdown",
   "id": "d45de8ed-7527-4d9d-bec1-475bbbd048f1",
   "metadata": {
    "tags": []
   },
   "source": [
    "***\n",
    "### 3. Threat Hunt related TTPs Matrix <a class=\"anchor\" id=\"chapter3\"></a>\n",
    "[Back to Table of Content](#Content)\n",
    "\n",
    "![](Pictures/layer.svg)"
   ]
  },
  {
   "cell_type": "markdown",
   "id": "e4601df8-6349-4076-8a70-9adfc777f6a3",
   "metadata": {},
   "source": [
    "***\n",
    "### 4. Import required Libraries for the Hunt <a class=\"anchor\" id=\"chapter4\"></a>\n",
    "[Back to Table of Content](#Content)"
   ]
  },
  {
   "cell_type": "code",
   "execution_count": null,
   "id": "2b2f55a1-32b8-460b-bd13-c44a73a1b3ac",
   "metadata": {},
   "outputs": [],
   "source": [
    "from pyspark.sql import SparkSession"
   ]
  },
  {
   "cell_type": "markdown",
   "id": "5295f882-3205-4f2d-927f-bfd1a62f38df",
   "metadata": {},
   "source": [
    "***\n",
    "### 5. Start Session with Splunk \\ other tools <a class=\"anchor\" id=\"chapter5\"></a>\n",
    "[Back to Table of Content](#Content)"
   ]
  },
  {
   "cell_type": "code",
   "execution_count": null,
   "id": "08afe535-7675-40c8-9e92-6728a021bf47",
   "metadata": {},
   "outputs": [],
   "source": [
    "spark = SparkSession.builder.getOrCreate()\n",
    "spark.conf.set(\"spark.sql.caseSensitive\", \"true\")"
   ]
  },
  {
   "cell_type": "markdown",
   "id": "e0dbebd5-96df-4050-8d7b-4d3b359022b4",
   "metadata": {
    "tags": []
   },
   "source": [
    "***\n",
    "### 6. Threat Intelligence based Hunt <a class=\"anchor\" id=\"chapter6\"></a>\n",
    "[Back to Table of Content](#Content)"
   ]
  },
  {
   "cell_type": "markdown",
   "id": "08dc1c76-7856-4b09-aaa9-04e3ab10b449",
   "metadata": {},
   "source": [
    "#### 6.1 Hashes based Hunt <a class=\"anchor\" id=\"section_6_1\"></a>\n",
    "[Back to Table of Content](#Content)\n",
    "\n",
    "**Data Sources:** Crowdstrike Telemetry\n",
    "\n",
    "**Detection Type:** Query on Crowdstrike logs \n",
    "\n",
    "**Criteria:** Check for any hits in last 3 months \n"
   ]
  },
  {
   "cell_type": "markdown",
   "id": "63b50777-c054-4b86-9edd-b199fb8614c7",
   "metadata": {
    "tags": []
   },
   "source": [
    "**Enter the Hashe Value(s):**\n",
    "\n",
    "Note: Enter multiple Hashes in CSV format\n",
    "\n",
    "<<<<   >>>>  Hashes entry text box\n",
    "\n",
    "**Query:**\n",
    "<<<<   >>>>  Enter the Splunk Query to search for hashes\n",
    "\n",
    "**Query Result:**\n",
    "<<<<   >>>> Show the Hits in a tabular format\n",
    "\n",
    "\n",
    "**Hashes Query Outcome Observation:** \n",
    "<<<  >>> Text Box"
   ]
  },
  {
   "cell_type": "markdown",
   "id": "e462cc14-1f9e-43a7-8600-fcf3d5a4fd9c",
   "metadata": {
    "tags": []
   },
   "source": [
    "#### 6.2 IP address based Hunt <a class=\"anchor\" id=\"section_6_2\"></a>\n",
    "[Back to Table of Content](#Content)\n",
    "\n",
    "**Data Sources:** Darktrace \\ Connection Telemetry\n",
    "\n",
    "**Detection Type:** Query on conenction logs \n",
    "\n",
    "**Criteria:** Check for any hits in last 3 months \n"
   ]
  },
  {
   "cell_type": "markdown",
   "id": "30186ae1-3571-421c-8aaa-36275a8169dc",
   "metadata": {
    "tags": []
   },
   "source": [
    "**Enter the IP address(es) :**\n",
    "\n",
    "Note: Enter multiple IPs in CSV format\n",
    "\n",
    "<<<<   >>>>  IP address entry text box\n",
    "\n",
    "**Query:**\n",
    "<<<<   >>>>  Enter the Splunk Query to search for connections toward the known IPs\n",
    "\n",
    "**Query Result:**\n",
    "<<<<   >>>> Show the Hits in a tabular format\n",
    "\n",
    "\n",
    "**IP Address Query Outcome Observation:** \n",
    "<<<  >>> Text Box"
   ]
  },
  {
   "cell_type": "markdown",
   "id": "0e114180-71cf-42c5-83a3-960e5cbfc4f4",
   "metadata": {},
   "source": [
    "#### 6.3 Domain based Hunt <a class=\"anchor\" id=\"section_6_3\"></a>\n",
    "[Back to Table of Content](#Content)\n",
    "\n",
    "**Data Sources:** Darktrace & Network connection related Telemetry\n",
    "\n",
    "**Detection Type:** Query on splunk logs \n",
    "\n",
    "**Criteria:** Check for any hits in last 3 months \n"
   ]
  },
  {
   "cell_type": "markdown",
   "id": "cc4b7f8e-a2fe-414b-8ca0-e83520d12eab",
   "metadata": {
    "tags": []
   },
   "source": [
    "**Enter the Domain(s):**\n",
    "\n",
    "Note: Enter multiple Domain in CSV format\n",
    "\n",
    "<<<<   >>>>  Domain entry text box\n",
    "\n",
    "**Query:**\n",
    "<<<<   >>>>  Enter the Splunk Query to search for hits toward the IOC Domain(s)\n",
    "\n",
    "**Query Result:**\n",
    "<<<<   >>>> Show the Hits in a tabular format\n",
    "\n",
    "\n",
    "**IOC Domain Query Outcome Observation:** \n",
    "<<<  >>> Text Box"
   ]
  },
  {
   "cell_type": "markdown",
   "id": "07b66f19-c7ed-478c-b287-c9b8faba8eae",
   "metadata": {
    "tags": []
   },
   "source": [
    "#### 6.4.Host Artifacts based Hunt <a class=\"anchor\" id=\"section_6_4\"></a>\n",
    "[Back to Table of Content](#Content)\n",
    "\n",
    "**Objective :**\n",
    "\n",
    "### Characteristics\n",
    "| No | Characteristic | Note | Why|\n",
    "|----|----------------|------|---|\n",
    "|  1 | | |  |\n",
    "|2   |  || |\n",
    "|3   |  | | |\n",
    "|4   |  || |\n",
    "\n",
    "\n",
    "**Log Requirements \\ Data Sources:** Darktrace & Network connection related Telemetry\n",
    "\n",
    "**Detection Type:** Query on splunk logs \n",
    "\n",
    "**Criteria:** Check for any hits in last 3 months \n",
    "\n",
    "**References**\n",
    "\n",
    "\n"
   ]
  },
  {
   "cell_type": "markdown",
   "id": "d4cad499-4a29-4f16-b92b-bbe99b10162f",
   "metadata": {
    "tags": []
   },
   "source": [
    "#### 6.5 Network Artifacts based Hunt <a class=\"anchor\" id=\"section_6_5\"></a>\n",
    "[Back to Table of Content](#Content)\n",
    "**Objective :**\n",
    "\n",
    "### Characteristics\n",
    "| No | Characteristic | Note | Why|\n",
    "|----|----------------|------|---|\n",
    "|  1 | | |  |\n",
    "|2   |  || |\n",
    "|3   |  | | |\n",
    "|4   |  || |\n",
    "\n",
    "\n",
    "**Log Requirements \\ Data Sources:** Darktrace & Network connection related Telemetry\n",
    "\n",
    "**Detection Type:** Query on splunk logs \n",
    "\n",
    "**Criteria:** Check for any hits in last 3 months \n",
    "\n",
    "**References**\n",
    "\n",
    "\n"
   ]
  },
  {
   "cell_type": "markdown",
   "id": "5183a5e2-39f9-4c26-9107-ae0fbdf5356e",
   "metadata": {
    "tags": []
   },
   "source": [
    "***\n",
    "### 7. Adversary Tools  based Hunt <a class=\"anchor\" id=\"chapter7\"></a>\n",
    "[Back to Table of Content](#Content)\n",
    "\n",
    "**Objective :**\n",
    "\n",
    "### Characteristics\n",
    "| No | Characteristic | Note | Why|\n",
    "|----|----------------|------|---|\n",
    "|  1 | | |  |\n",
    "|2   |  || |\n",
    "|3   |  | | |\n",
    "|4   |  || |\n",
    "\n",
    "\n",
    "**Log Requirements \\ Data Sources:** Darktrace & Network connection related Telemetry\n",
    "\n",
    "**Detection Type:** Query on splunk logs \n",
    "\n",
    "**Criteria:** Check for any hits in last 3 months \n",
    "\n",
    "**References**\n",
    "\n",
    "\n"
   ]
  },
  {
   "cell_type": "markdown",
   "id": "f69cb58e-a7d7-49d4-ae5a-c68ee465d63d",
   "metadata": {
    "tags": []
   },
   "source": [
    "***\n",
    "### 8.TTP based Hunt <a class=\"anchor\" id=\"chapter8\"></a>\n",
    "[Back to Table of Content](#Content)\n",
    "\n",
    "### 1. Drive-by Compromise\n",
    "**Objective :**\n",
    "\n",
    "\n",
    "**Tactic:** Initial Access (TA0001)\n",
    "### Characteristics\n",
    "| No | Characteristic | Note | Why|\n",
    "|----|----------------|------|---|\n",
    "|  1 | | |  |\n",
    "|2   |  || |\n",
    "|3   |  | | |\n",
    "|4   |  || |\n",
    "\n",
    "\n",
    "**Log Requirements \\ Data Sources:** Darktrace & Network connection related Telemetry\n",
    "\n",
    "**Detection Type:** Query on splunk logs \n",
    "\n",
    "**Criteria:** Check for any hits in last 3 months \n",
    "\n",
    "**References**\n",
    "1. \n",
    "2. \n",
    "\n",
    "\n"
   ]
  },
  {
   "cell_type": "markdown",
   "id": "90e70378-cfb8-4c7e-927d-085c7b58917e",
   "metadata": {},
   "source": [
    "**Analytics:**\n",
    "1. \n",
    "2. "
   ]
  },
  {
   "cell_type": "code",
   "execution_count": null,
   "id": "17afc353-1d0f-4e3d-b9db-70984ebcf78c",
   "metadata": {},
   "outputs": [],
   "source": []
  }
 ],
 "metadata": {
  "kernelspec": {
   "display_name": "Python 3",
   "language": "python",
   "name": "python3"
  },
  "language_info": {
   "codemirror_mode": {
    "name": "ipython",
    "version": 3
   },
   "file_extension": ".py",
   "mimetype": "text/x-python",
   "name": "python",
   "nbconvert_exporter": "python",
   "pygments_lexer": "ipython3",
   "version": "3.6.8"
  }
 },
 "nbformat": 4,
 "nbformat_minor": 5
}
