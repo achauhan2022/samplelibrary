{
 "cells": [
  {
   "cell_type": "markdown",
   "id": "29f896d2-0ffc-4095-aaa6-6711c3cba2c1",
   "metadata": {},
   "source": [
    "# TH Template"
   ]
  },
  {
   "cell_type": "markdown",
   "id": "30b7bd80-fa2c-4369-a670-363621d410e6",
   "metadata": {
    "tags": []
   },
   "source": [
    "### Table of Contents\n",
    "\n",
    "* [Chapter 1](#chapter1)\n",
    "    * [Section 1.1](#section_1_1)\n",
    "    * [Section 1.2](sSection_1_2)\n",
    "        * [Section 1.2.1](#section_1_2_1)\n",
    "        * [Section 1.2.2](#section_1_2_2)\n",
    "        * [Section 1.2.3](#section_1_2_3)\n",
    "* [Chapter 2](#chapter2)\n",
    "    * [Section 2.1](#section_2_1)\n",
    "    * [Section 2.2](#section_2_2)"
   ]
  },
  {
   "cell_type": "markdown",
   "id": "c2ee2921-f710-4711-8254-cce74f50f974",
   "metadata": {},
   "source": [
    "### Chapter 1 <a class=\"anchor\" id=\"chapter1\"></a>\n",
    "\n",
    "#### Section 1.1 <a class=\"anchor\" id=\"section_1_1\"></a>\n",
    "\n",
    "#### Section 1.2 <a class=\"anchor\" id=\"section_1_2\"></a>\n",
    "\n",
    "##### Section 1.2.1 <a class=\"anchor\" id=\"section_1_2_1\"></a>\n",
    "\n",
    "##### Section 1.2.2 <a class=\"anchor\" id=\"section_1_2_2\"></a>\n",
    "\n",
    "##### Section 1.2.3 <a class=\"anchor\" id=\"section_1_2_3\"></a>\n",
    "\n",
    "### Chapter 2 <a class=\"anchor\" id=\"chapter2\"></a>\n",
    "\n",
    "#### Section 2.1 <a class=\"anchor\" id=\"section_2_1\"></a>\n",
    "\n",
    "#### Section 2.2 <a class=\"anchor\" id=\"section_2_2\"></a>"
   ]
  },
  {
   "cell_type": "markdown",
   "id": "15e0a2c8-2143-4a1e-a9c0-fe5aba4a88fb",
   "metadata": {},
   "source": [
    "[]Link(https://moonbooks.org/Articles/How-to-create-a-table-of-contents-in-a-jupyter-notebook-/)\n",
    "\n",
    "https://technoteshelp.com/how-can-i-add-a-table-of-contents-to-a-jupyter-jupyterlab-notebook/"
   ]
  },
  {
   "cell_type": "code",
   "execution_count": null,
   "id": "d093c643-6a0e-41cc-9e22-c8eacd779889",
   "metadata": {},
   "outputs": [],
   "source": []
  }
 ],
 "metadata": {
  "kernelspec": {
   "display_name": "Python 3",
   "language": "python",
   "name": "python3"
  },
  "language_info": {
   "codemirror_mode": {
    "name": "ipython",
    "version": 3
   },
   "file_extension": ".py",
   "mimetype": "text/x-python",
   "name": "python",
   "nbconvert_exporter": "python",
   "pygments_lexer": "ipython3",
   "version": "3.6.8"
  }
 },
 "nbformat": 4,
 "nbformat_minor": 5
}
